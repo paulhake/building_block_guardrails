{
 "cells": [
  {
   "cell_type": "code",
   "execution_count": null,
   "id": "eaec070e",
   "metadata": {},
   "outputs": [],
   "source": [
    "from ibm_watsonx_gov.clients.api_client import APIClient\n",
    "from ibm_watsonx_gov.credentials import Credentials\n",
    "\n",
    "credentials = Credentials(api_key=WATSONX_APIKEY)\n",
    "api_client = APIClient(credentials=credentials)\n",
    "\n",
    "# Pass the api_client object as parameter to Evaluators"
   ]
  },
  {
   "cell_type": "code",
   "execution_count": null,
   "id": "a8ba4f75",
   "metadata": {},
   "outputs": [],
   "source": [
    "from ibm_watsonx_gov.clients.api_client import APIClient\n",
    "from ibm_watsonx_gov.credentials import Credentials\n",
    "\n",
    "credentials = Credentials(url=WATSONX_URL,\n",
    "                          api_key=WATSONX_APIKEY,\n",
    "                          username=WATSONX_USERNAME,\n",
    "                          version=WATSONX_VERSION)\n",
    "api_client = APIClient(credentials=credentials)\n",
    "\n",
    "# Pass the api_client object as parameter to Evaluators"
   ]
  },
  {
   "cell_type": "code",
   "execution_count": null,
   "id": "j9zh7wa6cq",
   "metadata": {},
   "outputs": [],
   "source": [
    "import ibm_watsonx_gov\n",
    "print(\"Available modules:\")\n",
    "print(dir(ibm_watsonx_gov))"
   ]
  },
  {
   "cell_type": "code",
   "execution_count": null,
   "id": "kd2h7r1n6f",
   "metadata": {},
   "outputs": [],
   "source": [
    "from ibm_watsonx_gov.entities import credentials\n",
    "print(\"Success! Available in credentials module:\")\n",
    "print(dir(credentials))"
   ]
  }
 ],
 "metadata": {
  "kernelspec": {
   "display_name": "guardrails-app",
   "language": "python",
   "name": "python3"
  },
  "language_info": {
   "codemirror_mode": {
    "name": "ipython",
    "version": 3
   },
   "file_extension": ".py",
   "mimetype": "text/x-python",
   "name": "python",
   "nbconvert_exporter": "python",
   "pygments_lexer": "ipython3",
   "version": "3.11.13"
  }
 },
 "nbformat": 4,
 "nbformat_minor": 5
}

{
 "cells": [
  {
   "cell_type": "code",
   "execution_count": 1,
   "id": "eaec070e",
   "metadata": {},
   "outputs": [
    {
     "name": "stderr",
     "output_type": "stream",
     "text": [
      "/Users/paulhake/miniforge3/envs/guardrails-app/lib/python3.11/site-packages/ibm_watson_openscale/utils/utils.py:25: UserWarning: pkg_resources is deprecated as an API. See https://setuptools.pypa.io/en/latest/pkg_resources.html. The pkg_resources package is slated for removal as early as 2025-11-30. Refrain from using this package or pin to Setuptools<81.\n",
      "  import pkg_resources\n"
     ]
    },
    {
     "ename": "ModuleNotFoundError",
     "evalue": "No module named 'ibm_watsonx_gov.credentials'",
     "output_type": "error",
     "traceback": [
      "\u001b[31m---------------------------------------------------------------------------\u001b[39m",
      "\u001b[31mModuleNotFoundError\u001b[39m                       Traceback (most recent call last)",
      "\u001b[36mCell\u001b[39m\u001b[36m \u001b[39m\u001b[32mIn[1]\u001b[39m\u001b[32m, line 2\u001b[39m\n\u001b[32m      1\u001b[39m \u001b[38;5;28;01mfrom\u001b[39;00m\u001b[38;5;250m \u001b[39m\u001b[34;01mibm_watsonx_gov\u001b[39;00m\u001b[34;01m.\u001b[39;00m\u001b[34;01mclients\u001b[39;00m\u001b[34;01m.\u001b[39;00m\u001b[34;01mapi_client\u001b[39;00m\u001b[38;5;250m \u001b[39m\u001b[38;5;28;01mimport\u001b[39;00m APIClient\n\u001b[32m----> \u001b[39m\u001b[32m2\u001b[39m \u001b[38;5;28;01mfrom\u001b[39;00m\u001b[38;5;250m \u001b[39m\u001b[34;01mibm_watsonx_gov\u001b[39;00m\u001b[34;01m.\u001b[39;00m\u001b[34;01mcredentials\u001b[39;00m\u001b[38;5;250m \u001b[39m\u001b[38;5;28;01mimport\u001b[39;00m Credentials\n\u001b[32m      4\u001b[39m credentials = Credentials(api_key=WATSONX_APIKEY)\n\u001b[32m      5\u001b[39m api_client = APIClient(credentials=credentials)\n",
      "\u001b[31mModuleNotFoundError\u001b[39m: No module named 'ibm_watsonx_gov.credentials'"
     ]
    }
   ],
   "source": [
    "from ibm_watsonx_gov.clients.api_client import APIClient\n",
    "from ibm_watsonx_gov.credentials import Credentials\n",
    "\n",
    "credentials = Credentials(api_key=WATSONX_APIKEY)\n",
    "api_client = APIClient(credentials=credentials)\n",
    "\n",
    "# Pass the api_client object as parameter to Evaluators"
   ]
  },
  {
   "cell_type": "code",
   "execution_count": null,
   "id": "a8ba4f75",
   "metadata": {},
   "outputs": [],
   "source": [
    "from ibm_watsonx_gov.clients.api_client import APIClient\n",
    "from ibm_watsonx_gov.credentials import Credentials\n",
    "\n",
    "credentials = Credentials(url=WATSONX_URL,\n",
    "                          api_key=WATSONX_APIKEY,\n",
    "                          username=WATSONX_USERNAME,\n",
    "                          version=WATSONX_VERSION)\n",
    "api_client = APIClient(credentials=credentials)\n",
    "\n",
    "# Pass the api_client object as parameter to Evaluators"
   ]
  },
  {
   "cell_type": "code",
   "execution_count": null,
   "id": "j9zh7wa6cq",
   "metadata": {},
   "outputs": [],
   "source": [
    "import ibm_watsonx_gov\n",
    "print(\"Available modules:\")\n",
    "print(dir(ibm_watsonx_gov))"
   ]
  },
  {
   "cell_type": "code",
   "execution_count": null,
   "id": "kd2h7r1n6f",
   "metadata": {},
   "outputs": [],
   "source": [
    "from ibm_watsonx_gov.entities import credentials\n",
    "print(\"Success! Available in credentials module:\")\n",
    "print(dir(credentials))"
   ]
  }
 ],
 "metadata": {
  "kernelspec": {
   "display_name": "guardrails-app",
   "language": "python",
   "name": "python3"
  },
  "language_info": {
   "codemirror_mode": {
    "name": "ipython",
    "version": 3
   },
   "file_extension": ".py",
   "mimetype": "text/x-python",
   "name": "python",
   "nbconvert_exporter": "python",
   "pygments_lexer": "ipython3",
   "version": "3.10.18"
  }
 },
 "nbformat": 4,
 "nbformat_minor": 5
}
